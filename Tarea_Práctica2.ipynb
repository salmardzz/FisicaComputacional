{
 "cells": [
  {
   "cell_type": "markdown",
   "metadata": {},
   "source": [
    "<h1 align=\"center\">Física Computacional</h1>\n",
    "<h1 align=\"center\">Semestre 2025-2</h1>\n",
    "<h2 align=\"center\">Tarea-Práctica 2</h2>\n",
    "\n",
    "---\n",
    "<h3 align=\"center\"> Salma Annette Rodríguez Muñoz</h3>\n",
    "\n",
    "---"
   ]
  },
  {
   "cell_type": "markdown",
   "metadata": {},
   "source": [
    "\n",
    "## 1. La fórmula semiempírica de la masa (FSM)\n",
    "\n",
    "En física nuclear, la fórmula de Weizsäcker (conocida también como fórmula semiempírica) sirve para evaluar la masa y otras propiedades de un núcleo atómico; y está basada parcialmente en mediciones empíricas. En particular, la fórmula se usa para calcular la energía de enlace nuclear aproximada \\( B \\), de un núcleo atómico con número atómico \\( Z \\) y número de masa \\( A \\):\n",
    "\n",
    "$$B = a_1A - a_2A^{2/3} - a_3\\frac{Z^2}{A^{1/3}} - a_4\\frac{(A - 2Z)^2}{A} + \\frac{a_5}{A^{1/2}}$$\n",
    "\n",
    "donde, en unidades de millones de electrón-volts, las constantes son $a_1 = 15.8$, $a_2 = 18.3$, $a_3 = 0.714$, $a_4 = 23.2$, y\n",
    "\n",
    "$$\n",
    "a_5 = \n",
    "\\begin{cases} \n",
    "0 & \\text{si } A \\text{ es impar}, \\\\\n",
    "12.0 & \\text{si } A \\text{ y } Z \\text{ son pares (ambos)}, \\\\\n",
    "-12.0 & \\text{si } A \\text{ es par y } Z \\text{ impar}.\n",
    "\\end{cases}\n",
    "$$\n",
    "\n",
    "### a) \n",
    "Escribe un programa que tome como entrada los valores de \\( A \\) y \\( Z \\), e imprima la energía de enlace \\( B \\) para el átomo correspondiente. Usa tu programa para encontrar la energía de enlace de un átomo con \\( A = 58 \\) y \\( Z = 28 \\) (Hint: La respuesta correcta es alrededor de los 490 MeV).\n",
    "\n",
    "\n"
   ]
  },
  {
   "cell_type": "code",
   "execution_count": 110,
   "metadata": {},
   "outputs": [
    {
     "name": "stdout",
     "output_type": "stream",
     "text": [
      "La energía de enlace para A = 58 y Z = 28 es: 497.56 MeV\n"
     ]
    }
   ],
   "source": [
    "#Ponemos el valor de las constantes\n",
    "a1 = 15.8\n",
    "a2 = 18.3\n",
    "a3 = 0.714\n",
    "a4 = 23.2\n",
    "\n",
    "def energiaEnlace(A, Z): #definimos la función que dependa de A y Z\n",
    "    if A % 2 == 1:   #Si A es impar \n",
    "        a5 = 0 #a5 es 0 \n",
    "    elif A % 2 == 0 and Z % 2 == 0: # Si A y Z son pares \n",
    "        a5 = 12 #a5 es 12\n",
    "    else:  #otro caso, o sea A par y Z impar\n",
    "        a5 = -12 #Es -12\n",
    "\n",
    "\n",
    "    # Cálculo de la energía de enlace B\n",
    "    B = (a1 * A - a2 * A**(2/3) - a3 * (Z**2 / A**(1/3)) \n",
    "         - a4 * ((A - 2*Z)**2 / A) + a5 / A**(1/2))\n",
    "\n",
    "    return B #Devuelveme el valor\n",
    "\n",
    "# Valores de A y Z para el átomo \n",
    "A = 58\n",
    "Z = 28\n",
    "\n",
    "# Calcular y mostrar la energía de enlace\n",
    "B = energiaEnlace(A, Z)\n",
    "print(f\"La energía de enlace para A = {A} y Z = {Z} es: {B:.2f} MeV\")"
   ]
  },
  {
   "cell_type": "markdown",
   "metadata": {},
   "source": [
    "### b) \n",
    "Modifica el programa del inciso anterior, para escribir una segunda versión que imprima no la energía de enlace total \\( B \\), sino la energía de unión por nucleón, que es \\( B / A \\)."
   ]
  },
  {
   "cell_type": "code",
   "execution_count": 121,
   "metadata": {},
   "outputs": [
    {
     "name": "stdout",
     "output_type": "stream",
     "text": [
      "La energía de unión por nucleón para A = 58 y Z = 28 es: 8.58 MeV/nucleón\n"
     ]
    }
   ],
   "source": [
    "#Ponemos el valor de las constantes\n",
    "a1 = 15.8\n",
    "a2 = 18.3\n",
    "a3 = 0.714\n",
    "a4 = 23.2\n",
    "\n",
    "def energiaUnionNucleon(A, Z): #definimos la función que dependa de A y Z\n",
    "    if A % 2 == 1:   #Si A es impar \n",
    "        a5 = 0 #a5 es 0 \n",
    "    elif A % 2 == 0 and Z % 2 == 0: # Si A y Z son pares \n",
    "        a5 = 12 #a5 es 12\n",
    "    else:  #otro caso, o sea A par y Z impar\n",
    "        a5 = -12 #Es -12\n",
    "\n",
    "\n",
    "    # Cálculo de la energía de enlace B\n",
    "    B = (a1 * A - a2 * A**(2/3) - a3 * (Z**2 / A**(1/3)) \n",
    "         - a4 * ((A - 2*Z)**2 / A) + a5 / A**(1/2))\n",
    "    \n",
    "     # Calcular la energía de enlace por nucleón (B/A)\n",
    "    U = B / A\n",
    "\n",
    "    return U #Devuelveme el valor de enlace por nucleón\n",
    "\n",
    "# Valores de A y Z para el átomo \n",
    "A = 58\n",
    "Z = 28\n",
    "\n",
    "# Calcular y mostrar la energía de enlace\n",
    "U = energiaUnionNucleon(A, Z)\n",
    "print(f\"La energía de unión por nucleón para A = {A} y Z = {Z} es: {U:.2f} MeV/nucleón\")"
   ]
  },
  {
   "cell_type": "markdown",
   "metadata": {},
   "source": [
    "\n",
    "\n",
    "### c) \n",
    "Escribe una tercera versión del programa para que tome como entrada solo un valor del número atómico \\( Z \\) y luego pase por todos los valores de \\( A \\) desde \\( A = Z \\) hasta \\( A = 3Z \\), para encontrar el que tiene la mayor energía de enlace por nucleón. Este es el núcleo más estable con el número atómico dado. Haz que tu programa imprima el valor de \\( A \\) para este núcleo más estable y el valor de la energía de enlace por nucleón.\n",
    "\n"
   ]
  },
  {
   "cell_type": "code",
   "execution_count": 176,
   "metadata": {},
   "outputs": [
    {
     "name": "stdout",
     "output_type": "stream",
     "text": [
      "Para Z = 28, el núcleo más estable tiene A = 62 con una energía de unión por nucleón de 8.7025 MeV/nucleón.\n"
     ]
    }
   ],
   "source": [
    "#Dar una Z arbitraria, con lo ya programado ir de Z a 3Z,, imprimir el valor más estable de A que es el que tiene mayor energía \n",
    "\n",
    "#Ponemos el valor de las constantes\n",
    "a1 = 15.8\n",
    "a2 = 18.3\n",
    "a3 = 0.714\n",
    "a4 = 23.2\n",
    "\n",
    "def energiaUnionNucleon(A, Z): #definimos la función que dependa de A y Z\n",
    "    if A % 2 == 1:   #Si A es impar \n",
    "        a5 = 0 #a5 es 0 \n",
    "    elif A % 2 == 0 and Z % 2 == 0: # Si A y Z son pares \n",
    "        a5 = 12 #a5 es 12\n",
    "    else:  #otro caso, o sea A par y Z impar\n",
    "        a5 = -12 #Es -12\n",
    "\n",
    "\n",
    "    # Cálculo de la energía de enlace B\n",
    "    B = (a1 * A - a2 * A**(2/3) - a3 * (Z**2 / A**(1/3)) \n",
    "         - a4 * ((A - 2*Z)**2 / A) + a5 / A**(1/2))\n",
    "    \n",
    "     # Calcular la energía de enlace por nucleón (B/A)\n",
    "    U = B / A\n",
    "\n",
    "    return U #Devuelveme el valor de enlace por nucleón\n",
    "\n",
    "def nucleoMasEstable(Z):  # Función para encontrar el núcleo más estable para un Z dado\n",
    "    mejor_A = Z  # Inicializamos mejor A como Z\n",
    "    max_U = 0  # Inicializamos la máxima energía de unión por nucleón\n",
    "    \n",
    "    for A in range(Z, 3 * Z + 1):  # Iteramos A desde Z hasta 3Z\n",
    "        U = energiaUnionNucleon(A, Z)  \n",
    "        if U > max_U:  # Si encontramos un valor mayor de U\n",
    "            max_U = U  # Actualizamos la máxima U\n",
    "            mejor_A = A  # Actualizamos el mejor A\n",
    "    \n",
    "    return mejor_A, max_U  # Devolvemos el mejor A y la máxima energía por nucleón\n",
    "\n",
    "#Ingreso de datos\n",
    "\n",
    "Z = int(input(\"Ingrese el número atómico Z: \"))\n",
    "mejor_A, max_U = nucleoMasEstable(Z)\n",
    "print(f\"Para Z = {Z}, el núcleo más estable tiene A = {mejor_A} con una energía de unión por nucleón de {max_U:.4f} MeV/nucleón.\")\n",
    "    \n"
   ]
  },
  {
   "cell_type": "markdown",
   "metadata": {},
   "source": [
    "### d) \n",
    "Finalmente, escribe una cuarta versión del programa que, en lugar de tomar \\( Z \\) como entrada, se ejecute a través de todos los valores de \\( Z \\) de 1 a 100 e imprima el valor más estable de \\( A \\) para cada uno. ¿A qué valor de \\( Z \\) se produce la energía de enlace máxima por nucleón? (La respuesta correcta, en la vida real, es \\( Z = 28 \\), que corresponde al Níquel)."
   ]
  },
  {
   "cell_type": "code",
   "execution_count": 185,
   "metadata": {},
   "outputs": [
    {
     "name": "stdout",
     "output_type": "stream",
     "text": [
      "El valor de Z con la máxima energía de enlace por nucleón es Z = 28, con A = 62 y una energía de 8.70 MeV\n"
     ]
    }
   ],
   "source": [
    "#Ponemos el valor de las constantes\n",
    "a1 = 15.8\n",
    "a2 = 18.3\n",
    "a3 = 0.714\n",
    "a4 = 23.2\n",
    "\n",
    "def energiaUnionNucleon(A, Z): #definimos la función que dependa de A y Z\n",
    "    if A % 2 == 1:   #Si A es impar \n",
    "        a5 = 0 #a5 es 0 \n",
    "    elif A % 2 == 0 and Z % 2 == 0: # Si A y Z son pares \n",
    "        a5 = 12 #a5 es 12\n",
    "    else:  #otro caso, o sea A par y Z impar\n",
    "        a5 = -12 #Es -12\n",
    "\n",
    "\n",
    "    # Cálculo de la energía de enlace B\n",
    "    B = (a1 * A - a2 * A**(2/3) - a3 * (Z**2 / A**(1/3)) \n",
    "         - a4 * ((A - 2*Z)**2 / A) + a5 / A**(1/2))\n",
    "    \n",
    "     # Calcular la energía de enlace por nucleón (B/A)\n",
    "    U = B / A\n",
    "\n",
    "    return U #Devuelveme el valor de enlace por nucleón\n",
    "\n",
    "def nucleoMasEstable(Z):  # Función para encontrar el núcleo más estable para un Z dado\n",
    "    mejor_A = Z  # Inicializamos mejor A como Z\n",
    "    max_U = 0  # Inicializamos la máxima energía de unión por nucleón\n",
    "    \n",
    "    for A in range(Z, 3 * Z + 1):  # Iteramos A desde Z hasta 3Z\n",
    "        U = energiaUnionNucleon(A, Z)  \n",
    "        if U > max_U:  # Si encontramos un valor mayor de U\n",
    "            max_U = U  # Actualizamos la máxima U\n",
    "            mejor_A = A  # Actualizamos el mejor A\n",
    "    \n",
    "    return mejor_A, max_U  # Devolvemos el mejor A y la máxima energía por nucleón\n",
    "\n",
    "\n",
    "#Inicializamos todo\n",
    "max_U_global = 0  \n",
    "mejor_Z_global = 0  \n",
    "mejor_A_global = 0  \n",
    "\n",
    "# Iteramos Z de 1 a 100\n",
    "for Z in range(1, 101):\n",
    "    mejor_A, max_U = nucleoMasEstable(Z)  # Encontramos el mejor A para el Z actual\n",
    "    \n",
    "    \n",
    "    # Si encontramos una mayor energía de enlace por nucleón global, actualizamos\n",
    "    if max_U > max_U_global:\n",
    "        max_U_global = max_U\n",
    "        mejor_Z_global = Z\n",
    "        mejor_A_global = mejor_A\n",
    "\n",
    "print(f\"El valor de Z con la máxima energía de enlace por nucleón es Z = {mejor_Z_global}, con A = {mejor_A_global} y una energía de {max_U_global:.2f} MeV\")\n",
    "\n"
   ]
  },
  {
   "cell_type": "code",
   "execution_count": 177,
   "metadata": {},
   "outputs": [
    {
     "name": "stdout",
     "output_type": "stream",
     "text": [
      "Z = 1, A más estable = 3, Energía de unión por nucleón = 0.37 MeV\n",
      "Z = 2, A más estable = 4, Energía de unión por nucleón = 5.32 MeV\n",
      "Z = 3, A más estable = 7, Energía de unión por nucleón = 5.28 MeV\n",
      "Z = 4, A más estable = 8, Energía de unión por nucleón = 6.47 MeV\n",
      "Z = 5, A más estable = 11, Energía de unión por nucleón = 6.65 MeV\n",
      "Z = 6, A más estable = 14, Energía de unión por nucleón = 7.20 MeV\n",
      "Z = 7, A más estable = 15, Energía de unión por nucleón = 7.33 MeV\n",
      "Z = 8, A más estable = 18, Energía de unión por nucleón = 7.72 MeV\n",
      "Z = 9, A más estable = 19, Energía de unión por nucleón = 7.74 MeV\n",
      "Z = 10, A más estable = 22, Energía de unión por nucleón = 8.04 MeV\n",
      "Z = 11, A más estable = 25, Energía de unión por nucleón = 8.03 MeV\n",
      "Z = 12, A más estable = 26, Energía de unión por nucleón = 8.24 MeV\n",
      "Z = 13, A más estable = 29, Energía de unión por nucleón = 8.24 MeV\n",
      "Z = 14, A más estable = 30, Energía de unión por nucleón = 8.38 MeV\n",
      "Z = 15, A más estable = 33, Energía de unión por nucleón = 8.39 MeV\n",
      "Z = 16, A más estable = 36, Energía de unión por nucleón = 8.49 MeV\n",
      "Z = 17, A más estable = 37, Energía de unión por nucleón = 8.48 MeV\n",
      "Z = 18, A más estable = 40, Energía de unión por nucleón = 8.57 MeV\n",
      "Z = 19, A más estable = 43, Energía de unión por nucleón = 8.55 MeV\n",
      "Z = 20, A más estable = 44, Energía de unión por nucleón = 8.63 MeV\n",
      "Z = 21, A más estable = 47, Energía de unión por nucleón = 8.61 MeV\n",
      "Z = 22, A más estable = 48, Energía de unión por nucleón = 8.66 MeV\n",
      "Z = 23, A más estable = 51, Energía de unión por nucleón = 8.65 MeV\n",
      "Z = 24, A más estable = 54, Energía de unión por nucleón = 8.69 MeV\n",
      "Z = 25, A más estable = 55, Energía de unión por nucleón = 8.66 MeV\n",
      "Z = 26, A más estable = 58, Energía de unión por nucleón = 8.70 MeV\n",
      "Z = 27, A más estable = 61, Energía de unión por nucleón = 8.68 MeV\n",
      "Z = 28, A más estable = 62, Energía de unión por nucleón = 8.70 MeV\n",
      "Z = 29, A más estable = 65, Energía de unión por nucleón = 8.68 MeV\n",
      "Z = 30, A más estable = 68, Energía de unión por nucleón = 8.70 MeV\n",
      "Z = 31, A más estable = 69, Energía de unión por nucleón = 8.68 MeV\n",
      "Z = 32, A más estable = 72, Energía de unión por nucleón = 8.69 MeV\n",
      "Z = 33, A más estable = 75, Energía de unión por nucleón = 8.67 MeV\n",
      "Z = 34, A más estable = 76, Energía de unión por nucleón = 8.68 MeV\n",
      "Z = 35, A más estable = 79, Energía de unión por nucleón = 8.65 MeV\n",
      "Z = 36, A más estable = 82, Energía de unión por nucleón = 8.66 MeV\n",
      "Z = 37, A más estable = 85, Energía de unión por nucleón = 8.63 MeV\n",
      "Z = 38, A más estable = 86, Energía de unión por nucleón = 8.64 MeV\n",
      "Z = 39, A más estable = 89, Energía de unión por nucleón = 8.61 MeV\n",
      "Z = 40, A más estable = 92, Energía de unión por nucleón = 8.61 MeV\n",
      "Z = 41, A más estable = 93, Energía de unión por nucleón = 8.59 MeV\n",
      "Z = 42, A más estable = 96, Energía de unión por nucleón = 8.59 MeV\n",
      "Z = 43, A más estable = 99, Energía de unión por nucleón = 8.56 MeV\n",
      "Z = 44, A más estable = 102, Energía de unión por nucleón = 8.56 MeV\n",
      "Z = 45, A más estable = 103, Energía de unión por nucleón = 8.53 MeV\n",
      "Z = 46, A más estable = 106, Energía de unión por nucleón = 8.53 MeV\n",
      "Z = 47, A más estable = 109, Energía de unión por nucleón = 8.50 MeV\n",
      "Z = 48, A más estable = 110, Energía de unión por nucleón = 8.49 MeV\n",
      "Z = 49, A más estable = 113, Energía de unión por nucleón = 8.47 MeV\n",
      "Z = 50, A más estable = 116, Energía de unión por nucleón = 8.46 MeV\n",
      "Z = 51, A más estable = 119, Energía de unión por nucleón = 8.43 MeV\n",
      "Z = 52, A más estable = 120, Energía de unión por nucleón = 8.42 MeV\n",
      "Z = 53, A más estable = 123, Energía de unión por nucleón = 8.40 MeV\n",
      "Z = 54, A más estable = 126, Energía de unión por nucleón = 8.39 MeV\n",
      "Z = 55, A más estable = 129, Energía de unión por nucleón = 8.36 MeV\n",
      "Z = 56, A más estable = 130, Energía de unión por nucleón = 8.35 MeV\n",
      "Z = 57, A más estable = 133, Energía de unión por nucleón = 8.32 MeV\n",
      "Z = 58, A más estable = 136, Energía de unión por nucleón = 8.31 MeV\n",
      "Z = 59, A más estable = 139, Energía de unión por nucleón = 8.29 MeV\n",
      "Z = 60, A más estable = 140, Energía de unión por nucleón = 8.27 MeV\n",
      "Z = 61, A más estable = 143, Energía de unión por nucleón = 8.25 MeV\n",
      "Z = 62, A más estable = 146, Energía de unión por nucleón = 8.23 MeV\n",
      "Z = 63, A más estable = 149, Energía de unión por nucleón = 8.21 MeV\n",
      "Z = 64, A más estable = 150, Energía de unión por nucleón = 8.19 MeV\n",
      "Z = 65, A más estable = 153, Energía de unión por nucleón = 8.17 MeV\n",
      "Z = 66, A más estable = 156, Energía de unión por nucleón = 8.15 MeV\n",
      "Z = 67, A más estable = 159, Energía de unión por nucleón = 8.13 MeV\n",
      "Z = 68, A más estable = 162, Energía de unión por nucleón = 8.11 MeV\n",
      "Z = 69, A más estable = 163, Energía de unión por nucleón = 8.09 MeV\n",
      "Z = 70, A más estable = 166, Energía de unión por nucleón = 8.07 MeV\n",
      "Z = 71, A más estable = 169, Energía de unión por nucleón = 8.05 MeV\n",
      "Z = 72, A más estable = 172, Energía de unión por nucleón = 8.03 MeV\n",
      "Z = 73, A más estable = 175, Energía de unión por nucleón = 8.00 MeV\n",
      "Z = 74, A más estable = 176, Energía de unión por nucleón = 7.99 MeV\n",
      "Z = 75, A más estable = 179, Energía de unión por nucleón = 7.96 MeV\n",
      "Z = 76, A más estable = 182, Energía de unión por nucleón = 7.95 MeV\n",
      "Z = 77, A más estable = 185, Energía de unión por nucleón = 7.92 MeV\n",
      "Z = 78, A más estable = 188, Energía de unión por nucleón = 7.90 MeV\n",
      "Z = 79, A más estable = 191, Energía de unión por nucleón = 7.88 MeV\n",
      "Z = 80, A más estable = 192, Energía de unión por nucleón = 7.86 MeV\n",
      "Z = 81, A más estable = 195, Energía de unión por nucleón = 7.84 MeV\n",
      "Z = 82, A más estable = 198, Energía de unión por nucleón = 7.82 MeV\n",
      "Z = 83, A más estable = 201, Energía de unión por nucleón = 7.79 MeV\n",
      "Z = 84, A más estable = 204, Energía de unión por nucleón = 7.78 MeV\n",
      "Z = 85, A más estable = 205, Energía de unión por nucleón = 7.75 MeV\n",
      "Z = 86, A más estable = 208, Energía de unión por nucleón = 7.74 MeV\n",
      "Z = 87, A más estable = 211, Energía de unión por nucleón = 7.71 MeV\n",
      "Z = 88, A más estable = 214, Energía de unión por nucleón = 7.69 MeV\n",
      "Z = 89, A más estable = 217, Energía de unión por nucleón = 7.67 MeV\n",
      "Z = 90, A más estable = 220, Energía de unión por nucleón = 7.65 MeV\n",
      "Z = 91, A más estable = 223, Energía de unión por nucleón = 7.63 MeV\n",
      "Z = 92, A más estable = 224, Energía de unión por nucleón = 7.61 MeV\n",
      "Z = 93, A más estable = 227, Energía de unión por nucleón = 7.58 MeV\n",
      "Z = 94, A más estable = 230, Energía de unión por nucleón = 7.57 MeV\n",
      "Z = 95, A más estable = 233, Energía de unión por nucleón = 7.54 MeV\n",
      "Z = 96, A más estable = 236, Energía de unión por nucleón = 7.52 MeV\n",
      "Z = 97, A más estable = 239, Energía de unión por nucleón = 7.50 MeV\n",
      "Z = 98, A más estable = 242, Energía de unión por nucleón = 7.48 MeV\n",
      "Z = 99, A más estable = 243, Energía de unión por nucleón = 7.46 MeV\n",
      "Z = 100, A más estable = 246, Energía de unión por nucleón = 7.44 MeV\n",
      "El valor de Z con la máxima energía de enlace por nucleón es Z = 28, con A = 62 y una energía de 8.70 MeV\n"
     ]
    }
   ],
   "source": [
    "#Aquí se van a presentar todo lo calculado en la iteración de 1-100\n",
    "\n",
    "#Ponemos el valor de las constantes\n",
    "a1 = 15.8\n",
    "a2 = 18.3\n",
    "a3 = 0.714\n",
    "a4 = 23.2\n",
    "\n",
    "def energiaUnionNucleon(A, Z): #definimos la función que dependa de A y Z\n",
    "    if A % 2 == 1:   #Si A es impar \n",
    "        a5 = 0 #a5 es 0 \n",
    "    elif A % 2 == 0 and Z % 2 == 0: # Si A y Z son pares \n",
    "        a5 = 12 #a5 es 12\n",
    "    else:  #otro caso, o sea A par y Z impar\n",
    "        a5 = -12 #Es -12\n",
    "\n",
    "\n",
    "    # Cálculo de la energía de enlace B\n",
    "    B = (a1 * A - a2 * A**(2/3) - a3 * (Z**2 / A**(1/3)) \n",
    "         - a4 * ((A - 2*Z)**2 / A) + a5 / A**(1/2))\n",
    "    \n",
    "     # Calcular la energía de enlace por nucleón (B/A)\n",
    "    U = B / A\n",
    "\n",
    "    return U #Devuelveme el valor de enlace por nucleón\n",
    "\n",
    "def nucleoMasEstable(Z):  # Función para encontrar el núcleo más estable para un Z dado\n",
    "    mejor_A = Z  # Inicializamos mejor A como Z\n",
    "    max_U = 0  # Inicializamos la máxima energía de unión por nucleón\n",
    "    \n",
    "    for A in range(Z, 3 * Z + 1):  # Iteramos A desde Z hasta 3Z\n",
    "        U = energiaUnionNucleon(A, Z)  \n",
    "        if U > max_U:  # Si encontramos un valor mayor de U\n",
    "            max_U = U  # Actualizamos la máxima U\n",
    "            mejor_A = A  # Actualizamos el mejor A\n",
    "    \n",
    "    return mejor_A, max_U  # Devolvemos el mejor A y la máxima energía por nucleón\n",
    "\n",
    "\n",
    "#Inicializamos todo\n",
    "max_U_global = 0  \n",
    "mejor_Z_global = 0  \n",
    "mejor_A_global = 0  \n",
    "\n",
    "# Iteramos Z de 1 a 100\n",
    "for Z in range(1, 101):\n",
    "    mejor_A, max_U = nucleoMasEstable(Z)  # Encontramos el mejor A para el Z actual\n",
    "    print(f\"Z = {Z}, A más estable = {mejor_A}, Energía de unión por nucleón = {max_U:.2f} MeV\")\n",
    "    \n",
    "    # Si encontramos una mayor energía de enlace por nucleón global, actualizamos\n",
    "    if max_U > max_U_global:\n",
    "        max_U_global = max_U\n",
    "        mejor_Z_global = Z\n",
    "        mejor_A_global = mejor_A\n",
    "\n",
    "\n",
    "print(f\"El valor de Z con la máxima energía de enlace por nucleón es Z = {mejor_Z_global}, con A = {mejor_A_global} y una energía de {max_U_global:.2f} MeV\")"
   ]
  },
  {
   "cell_type": "markdown",
   "metadata": {},
   "source": [
    "---\n",
    "\n",
    "## 2. La constante de Madelung\n",
    "\n",
    "En física de la materia condensada, la constante de Madelung da el potencial eléctrico total que siente un átomo en un sólido; y depende de las cargas de los otros átomos cercanos y de sus ubicaciones.\n",
    "Por ejemplo, el cristal de cloruro de sodio sólido (la sal de mesa), tiene átomos dispuestos en una red cúbica, con átomos de sodio y cloro alternados, teniendo los de sodio una carga positiva $+e$ y los de cloro una negativa $-e$, (donde $e$ es la carga del electrón). Si etiquetamos cada posición en la red con tres coordenadas enteras $(i, j, k)$, entonces los átomos de sodio caen en posiciones donde $i+j+k$ es par, y los átomos de cloro en posiciones donde $i+j+k$ es impar.\n",
    "Consideremos un átomo de sodio en el origen, i.e. $i=j=k=0$, y calculemos la constante de Madelung. Si el espaciado de los átomos en la red es $a$, entonces la distancia desde el origen al átomo en la posición $(i, j, k)$ es:\n",
    "\n",
    "$$\n",
    "\\sqrt{(i a)^{2}+(j a)^{2}+(k a)^{2}}=a \\sqrt{i^{2}+j^{2}+k^{2}}\n",
    "$$\n",
    "\n",
    "y el potencial en el origen creado por tal átomo es:\n",
    "\n",
    "$$\n",
    "V(i, j, k)= \\pm \\frac{e}{4 \\pi \\epsilon_{0} a \\sqrt{i^{2}+j^{2}+k^{2}}}\n",
    "$$\n",
    "\n",
    "siendo $\\epsilon_{0}$ la permitividad del vacío y el signo de la expresión se toma dependiendo de si $i+j+k$ es par o impar. Así entonces, el potencial total que siente el átomo de sodio es la suma de esta cantidad sobre todos los demás átomos. Supongamos una caja cúbica alrededor del átomo de sodio en el origen, con $L$ átomos en todas las direcciones, entonces:\n",
    "\n",
    "$$\n",
    "V_{\\text {total }}=\\sum_{\\substack{i, j, k=-L \\\\ i, j, k \\neq 0}}^{L} V(i, j, k)=\\frac{e}{4 \\pi \\epsilon_{0} a} M\n",
    "$$\n",
    "donde $M$ es la constante de Madelung (al menos aproximadamente).\n",
    "\n",
    "Técnicamente, la constante de Madelung es el valor de $M$ cuando $L \\rightarrow \\infty$, pero se puede obtener una buena aproximación simplemente usando un valor grande de $L$.\n",
    "\n",
    "Escribe un programa para calcular e imprimir la constante de Madelung para el cloruro de sodio. Utiliza un valor de $L$ tan grande como puedas, sin dejar que tu programa se ejecutar en un tiempo razonable (un minuto o menos)."
   ]
  },
  {
   "cell_type": "code",
   "execution_count": 153,
   "metadata": {},
   "outputs": [],
   "source": [
    "import numpy as np\n",
    "import math as mt"
   ]
  },
  {
   "cell_type": "code",
   "execution_count": 154,
   "metadata": {},
   "outputs": [
    {
     "name": "stdout",
     "output_type": "stream",
     "text": [
      "Constante de Madelung para L = 100: es M =-1.74\n"
     ]
    }
   ],
   "source": [
    "#Buscamos la constante de Madelung para un número L grande\n",
    "\n",
    "#Definimos constantes \n",
    "\n",
    "L = 100 # numero de átomos en todas direcciones \n",
    "a = 1 # parámetro de espacio entre la red\n",
    "v = 1.112e-10 # 4*pi*epsilon\n",
    "e = 1.6022e-19 # C\n",
    "\n",
    "#Hacemos la función \n",
    "def Cte_Madelung(L):\n",
    "  M = 0 #Inicializamos M en 0 \n",
    "  for i in range(-L,L+1): #ya que i, j, k=-L\n",
    "    for j in range(-L,L+1):\n",
    "      for k in range(-L,L+1):\n",
    "          if (i==j==k==0):\n",
    "            continue  # Omitimos el átomo en el origen\n",
    "          \n",
    "          signo = -1 if (i + j + k) % 2 else 1  # Alternar signo según la paridad\n",
    "          distancia = math.sqrt(i**2 + j**2 + k**2)  # Cálculo de la distancia\n",
    "                \n",
    "          M += signo / distancia  # Aplicamos la fórmula\n",
    "\n",
    "  print(M)\n",
    "   \n",
    "\n",
    "print(f\"Constante de Madelung para L = {L}: es M ={M:.2f}\")\n",
    "    "
   ]
  },
  {
   "attachments": {
    "image.png": {
     "image/png": "[encoded data removed]"
    }
   },
   "cell_type": "markdown",
   "metadata": {},
   "source": [
    "![image.png](attachment:image.png)"
   ]
  },
  {
   "cell_type": "markdown",
   "metadata": {},
   "source": [
    "---\n",
    "## 3. Coeficientes binomiales\n",
    "\n",
    "El coeficiente binomial $\\binom{n}{k}$ es un número entero igual a:\n",
    "\n",
    "$$\n",
    "\\binom{n}{k}=\\frac{n!}{k!(n-k)!}=\\frac{n \\times(n-1) \\times(n-2) \\times \\ldots \\times(n-k+1)}{1 \\times 2 \\times \\ldots \\times k}\n",
    "$$\n",
    "\n",
    "donde $k \\geq 1$, o bien $\\binom{n}{0}=1$ cuando $k=0$.\n",
    "\n",
    "\n",
    "(a) Utiliza esta formula para escribir una función llamada binomial ( $\\mathrm{n}, \\mathrm{k}$ ) (o como tu quieras) que calcule el coeficiente binomial para un $n$ y $k$ dados. Asegúrate de que tu función devuelva la respuesta en forma de un número entero (no flotante) y proporcione el valor correcto de 1 para el caso en que $k=0$."
   ]
  },
  {
   "cell_type": "code",
   "execution_count": 155,
   "metadata": {},
   "outputs": [],
   "source": [
    "import math as mt"
   ]
  },
  {
   "cell_type": "code",
   "execution_count": 156,
   "metadata": {},
   "outputs": [
    {
     "name": "stdout",
     "output_type": "stream",
     "text": [
      "El coeficiente binomial C(0, 0) es: 1\n"
     ]
    }
   ],
   "source": [
    "# Definimos una función que calcula el coeficiente binomial C(n, k)\n",
    "def binomial(n, k):\n",
    "    if k == 0:\n",
    "        return 1 # Caso base: si k es 0, el coeficiente binomial es 1  \n",
    "    elif k > n: \n",
    "        return(\"n debe ser mayor o igual a k\") # Si k es mayor que n, no es posible calcular el coeficiente binomial  \n",
    "    else:\n",
    "        return((mt.factorial(n))/(mt.factorial(k)*mt.factorial(n-k)))  # Usamos la fórmula del coeficiente binomial: C(n, k) = n! / (k!(n-k)!)\n",
    "\n",
    "# Pedimos al usuario que ingrese los valores de n y k\n",
    "n = int(input(\"Ingrese el valor de n: \"))  \n",
    "k = int(input(\"Ingrese el valor de k: \"))  \n",
    "\n",
    "# Calculamos y mostramos el coeficiente binomial\n",
    "resultado = binomial(n, k)\n",
    "\n",
    "# Si el resultado es un número, lo convertimos a entero antes de imprimir\n",
    "if isinstance(resultado, (int, float)):\n",
    "    print(f\"El coeficiente binomial C({n}, {k}) es: {int(resultado)}\")\n",
    "else:\n",
    "    print(resultado)  # En caso de que el mensaje de error sea devuelto"
   ]
  },
  {
   "cell_type": "markdown",
   "metadata": {},
   "source": [
    "(b) Usando tu función, escribe un programa que imprima las primeras 20 líneas del \"triángulo de Pascal\". La nésima línea del triángulo de Pascal contiene $n+1$ números, que son los coeficientes $\\binom{n}{0},\\binom{n}{1}$, y así sucesivamente hasta $\\binom{n}{n}$. De tal manera que las primeras líneas son:\n",
    "11\n",
    "\n",
    "\n",
    "121\n",
    "\n",
    "\n",
    "1331\n",
    "\n",
    "\n",
    "14641"
   ]
  },
  {
   "cell_type": "code",
   "execution_count": 157,
   "metadata": {},
   "outputs": [
    {
     "name": "stdout",
     "output_type": "stream",
     "text": [
      "1 \n",
      "1 1 \n",
      "1 2 1 \n",
      "1 3 3 1 \n",
      "1 4 6 4 1 \n",
      "1 5 10 10 5 1 \n",
      "1 6 15 20 15 6 1 \n",
      "1 7 21 35 35 21 7 1 \n",
      "1 8 28 56 70 56 28 8 1 \n",
      "1 9 36 84 126 126 84 36 9 1 \n",
      "1 10 45 120 210 252 210 120 45 10 1 \n",
      "1 11 55 165 330 462 462 330 165 55 11 1 \n",
      "1 12 66 220 495 792 924 792 495 220 66 12 1 \n",
      "1 13 78 286 715 1287 1716 1716 1287 715 286 78 13 1 \n",
      "1 14 91 364 1001 2002 3003 3432 3003 2002 1001 364 91 14 1 \n",
      "1 15 105 455 1365 3003 5005 6435 6435 5005 3003 1365 455 105 15 1 \n",
      "1 16 120 560 1820 4368 8008 11440 12870 11440 8008 4368 1820 560 120 16 1 \n",
      "1 17 136 680 2380 6188 12376 19448 24310 24310 19448 12376 6188 2380 680 136 17 1 \n",
      "1 18 153 816 3060 8568 18564 31824 43758 48620 43758 31824 18564 8568 3060 816 153 18 1 \n",
      "1 19 171 969 3876 11628 27132 50388 75582 92378 92378 75582 50388 27132 11628 3876 969 171 19 1 \n"
     ]
    }
   ],
   "source": [
    "for n in range(20): #recorrer los valores de n desde 0 hasta 19\n",
    "  for  k in range(n+1): #recorrer los valores de k desde 0 hasta n\n",
    "    print(int(binomial(n,k)), end=\" \")\n",
    "    # Calculamos e imprimimos el coeficiente binomial C(n, k)\n",
    "        # Se usa end=\" \" para que los valores se impriman en la misma línea separados por un espacio\n",
    "\n",
    "  print()"
   ]
  },
  {
   "cell_type": "markdown",
   "metadata": {},
   "source": [
    "(c) La probabilidad de que para una moneda no sesgada, lanzada $n$ veces, salga águila $k$ veces es:\n",
    "\n",
    "$$\n",
    "p(k \\mid n)=\\frac{\\binom{n}{k}}{2^{n}}\n",
    "$$\n",
    "\n",
    "Escribe un programa para calcular:\n",
    "\n",
    "\n",
    "1) la probabilidad total de que una moneda lanzada 100 veces, salga águila exactamente 60 veces y\n",
    "\n",
    "\n",
    "2) la probabilidad de que salga águila 60 veces o más."
   ]
  },
  {
   "cell_type": "code",
   "execution_count": 158,
   "metadata": {},
   "outputs": [
    {
     "name": "stdout",
     "output_type": "stream",
     "text": [
      "La probabilidad de que una moneda lanzada 100 veces salga águila exactamente 60 veces es p = 0.010843866711637987\n",
      "La probabilidad de que una moneda lanzada 100 veces salga águila 60 veces o más es p =  0.02844396682049033\n"
     ]
    }
   ],
   "source": [
    "def tiro(n,k):\n",
    "  return binomial(n,k)/2**n #fórmula de la probabilidad binomial\n",
    "\n",
    "#Definimos los valores y se calcula la probabilidad exacta de obtener 60 águilas en 100 lanzamientos.\n",
    "n = 100\n",
    "k = 60\n",
    "print(f\"La probabilidad de que una moneda lanzada {n} veces salga águila exactamente {k} veces es p = {(tiro(n,k))}\")\n",
    "\n",
    "q = 0 #Inicializamos en q=0\n",
    "for m in range(0,k): #Sumar las probabilidades de obtener desde 0 hasta 59 águilas.\n",
    "    q += tiro(n,m)\n",
    "p = 1-q #La probabilidad de obtener 60 o más águilas es  1 - q , ya que la suma de todas las probabilidades debe ser 1\n",
    "print(f\"La probabilidad de que una moneda lanzada {n} veces salga águila {k} veces o más es p =  {(p)}\")"
   ]
  },
  {
   "cell_type": "markdown",
   "metadata": {},
   "source": [
    "## 4. Recursión\n",
    "\n",
    "Una característica muy útil de las funciones que podemos definir es la recursividad, es decir, la capacidad de una función de llamarse a sí misma. Por ejemplo, considere la siguiente definición del factorial $n$ ! de un entero positivo $n$ :\n",
    "\n",
    "$$\n",
    "n!= \\begin{cases}1 & \\text { si } n=1 \\\\ n \\times(n-1)! & \\text { si } n>1\\end{cases}\n",
    "$$\n",
    "\n",
    "Esto constituye una definición completa del factorial que nos permite calcular el valor de $n$ ! para cualquier entero positivo. Podemos emplear esta definición directamente para crear una función para calcular factoriales, como esta (en Python):\n",
    "\n",
    "```\n",
    "def factorial(n):\n",
    "    if n==1:\n",
    "        return 1\n",
    "    else:\n",
    "        return n*factorial(n-1)\n",
    "```\n",
    "\n",
    "Nota cómo si $n$ no es igual a 1, la función se llama a sí misma para calcular el factorial de $n-1$, de tal manera que al pedir ```\"print(factorial(5))\"``` el interprete de Python imprimirá correctamente la respuesta 120.\n",
    "\n",
    "(a) Anteriormente, en clase encontramos los números de Catalán $C_{n}$. Si hacemos una pequeña modificación, la definición de $C_{n}$ se puede reescribir de la siguiente forma:\n",
    "\n",
    "$$\n",
    "C_{n}= \\begin{cases}1 & \\text { if } n=0 \\\\ \\frac{4 n-2}{n+1} C_{n-1} & \\text { if } n>0\\end{cases}\n",
    "$$\n",
    "\n",
    "Escribe una función, **usando recursividad**, que calcule $C_{n}$ y utilízala para calcular e imprimir $C_{100}$.\n"
   ]
  },
  {
   "cell_type": "code",
   "execution_count": 159,
   "metadata": {},
   "outputs": [
    {
     "name": "stdout",
     "output_type": "stream",
     "text": [
      "8.965199470901317e+56\n"
     ]
    }
   ],
   "source": [
    "# Números de catalán\n",
    "# La función se llama a sí misma hasta alcanzar n = 0, donde se inicia el cálculo desde C_0 = 1 y se van propagando los valores hacia C_n\n",
    "def catalan(n):\n",
    "    if n == 0:\n",
    "        return 1  #Este es el caso base con n=0\n",
    "    else:\n",
    "        return ((4 * n - 2) / (n + 1)) * catalan(n - 1) #Para cualquier ootro caso, es decir n>0 y multiplica por el termino anterior \n",
    "\n",
    "print(catalan(100))"
   ]
  },
  {
   "cell_type": "markdown",
   "metadata": {},
   "source": [
    "(b) Euclides demostró que el máximo común divisor $g(m, n)$ de dos enteros no negativos $m$ y $n$ satisface que:\n",
    "\n",
    "$$\n",
    "g(m, n)= \\begin{cases}m & \\text { si } n=0 \\\\ g(n, m \\bmod n) & \\text { si } n>0\\end{cases}\n",
    "$$\n",
    "\n",
    "Usando esta fórmula escribe una función $\\mathrm{g}(\\mathrm{m}, \\mathrm{n})$ que emplee recursividad para calcular el máximo común divisor de $m$ y $n$. Usa tu función para calcular e imprimir el máximo común divisor de 108 y 192.\n",
    "\n",
    "Comparando el cálculo de los números de Catalán del inciso $5 a$, con lo hecho en clase, vemos que es posible hacer el cálculo de dos maneras, ya sea directamente o usando recursividad.\n",
    "\n",
    "En la mayoría de los casos, si una cantidad se puede calcular **sin recursividad**, será más rápido y normalmente se recomienda hacerlo así, si es posible. Sin embargo, hay algunos cálculos que son esencialmente imposibles (o al menos mucho más difíciles) sin recursividad"
   ]
  },
  {
   "cell_type": "code",
   "execution_count": 160,
   "metadata": {},
   "outputs": [
    {
     "name": "stdout",
     "output_type": "stream",
     "text": [
      "12\n"
     ]
    }
   ],
   "source": [
    "# Calcular el Máximo Común Divisor (MCD) de dos números enteros\n",
    "def g(m, n):   \n",
    "    if n==0:\n",
    "       return m  #Caso base :si n = 0, devuelve m, ya que el MCD de m y 0 es m \n",
    "    else:\n",
    "       return g(n, m%n) #Si n ≠ 0, la función se llama recursivamente intercambiando m por n y n por m % n (el residuo de la división de m entre n).\n",
    "print(g(108,192))"
   ]
  }
 ],
 "metadata": {
  "kernelspec": {
   "display_name": "Python 3",
   "language": "python",
   "name": "python3"
  },
  "language_info": {
   "codemirror_mode": {
    "name": "ipython",
    "version": 3
   },
   "file_extension": ".py",
   "mimetype": "text/x-python",
   "name": "python",
   "nbconvert_exporter": "python",
   "pygments_lexer": "ipython3",
   "version": "3.12.6"
  }
 },
 "nbformat": 4,
 "nbformat_minor": 2
}
