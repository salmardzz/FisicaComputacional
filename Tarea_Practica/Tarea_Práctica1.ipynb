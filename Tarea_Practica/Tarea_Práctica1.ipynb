{
 "cells": [
  {
   "cell_type": "markdown",
   "metadata": {},
   "source": [
    "<h1 align=\"center\">Física Computacional</h1>\n",
    "<h1 align=\"center\">Semestre 2025-2</h1>\n",
    "<h2 align=\"center\">Tarea-Práctica 1</h2>\n",
    "\n",
    "---\n",
    "<h3 align=\"center\"> Salma Annette Rodríguez Muñoz</h3>\n",
    "\n",
    "---"
   ]
  },
  {
   "cell_type": "markdown",
   "metadata": {},
   "source": [
    "## 1. Altitud de un satélite: \n",
    "\n",
    "Se va a lanzar un satélite en una  órbita circular alrededor de la Tierra de modo que orbite el planeta una vez cada T segundos.\n",
    "\n",
    "### a) Demuestre que la altitud $h$ sobre la superficie de la Tierra que debe tener el satélite es:\n",
    " \n",
    "  $$h = \\left( \\frac{G M T^2}{4\\pi^2} \\right)^{1/3} - R $$\n",
    " \n",
    "donde $G = 6.67 \\times 10^{-11} $, $\\text{m}^3 \\text{kg}^{-1} \\text{s}^{-2}$ es la constante gravitatoria de Newton,  $ M = 5.97 \\times 10^{24}$ kg es la masa de la Tierra y $ R = 6371 $ km es su radio.\n",
    "\n"
   ]
  },
  {
   "cell_type": "markdown",
   "metadata": {},
   "source": [
    "## Demostración: \n",
    "\n",
    "\n",
    "Para que un satélite se mantenga en órbita circular, la fuerza gravitatoria ($F_g$) debe igualar a la fuerza centrípeta ($F_c$), es decir \n",
    "\n",
    "$$ \\color{salmon}{ F_g} = \\color{violet}{F_c} $$ \n",
    "\n",
    "Sabemos que:  $ \\color{salmon}{F_g = \\frac{GMm}{(h+R)^2}}$ y que $\\color{violet}{F_c = mw^2 (h+R)}$\n",
    "\n",
    "\n",
    "Siguiendo lo anterior tenemos:\n",
    "\n",
    "$$\\color{salmon}{ \\frac{GMm}{(h+R)^2}} = \\color{violet}{mw^2 (h+R)} $$\n",
    "\n",
    "Ahora despejemos $h$:\n",
    "\n",
    "$$ h = \\sqrt[3]{\\frac{GM}{\\omega^2}} - R $$\n",
    "\n",
    "como  $\\omega = \\frac{2\\pi}{T} $\n",
    "\n",
    "$$ h = \\sqrt[3]{\\frac{GMT^{2}}{4\\pi^2}} - R $$\n"
   ]
  },
  {
   "cell_type": "markdown",
   "metadata": {},
   "source": [
    "Paso a paso se muestra en la imagen adjunta: \n",
    "\n",
    "\n",
    "![Imagen](./Dem.png)"
   ]
  },
  {
   "cell_type": "markdown",
   "metadata": {},
   "source": [
    "### b) Escribe un programa que le pida al usuario que ingrese el valor deseado de $T$ y luego calcule e imprima la altitud correcta en metros.\n"
   ]
  },
  {
   "cell_type": "code",
   "execution_count": 25,
   "metadata": {},
   "outputs": [],
   "source": [
    "#Importamos librerías \n",
    "\n",
    "import math as mt\n"
   ]
  },
  {
   "cell_type": "code",
   "execution_count": 26,
   "metadata": {},
   "outputs": [],
   "source": [
    "#Vamos a definir las variables \n",
    "\n",
    "G = 6.67e-11  #Constante de gravitación univesal en m^3 kg^{-1} s^{-2}\n",
    "M = 5.97e24  # Masa de la Tierra en kg\n",
    "R = 6371000 # Radio en m\n"
   ]
  },
  {
   "cell_type": "code",
   "execution_count": 27,
   "metadata": {},
   "outputs": [],
   "source": [
    "def Calcular_Altitud(T): #Esta función regresa la altitud \n",
    "    h = (G * M * T**2 / (4 * mt.pi**2))**(1/3) - R #Esta es la ecuación del inicio\n",
    "    return h #Resultado de la altura "
   ]
  },
  {
   "cell_type": "code",
   "execution_count": 28,
   "metadata": {},
   "outputs": [
    {
     "data": {
      "text/plain": [
       "25179259.96592242"
      ]
     },
     "execution_count": 28,
     "metadata": {},
     "output_type": "execute_result"
    }
   ],
   "source": [
    "Calcular_Altitud(55800) #Ingresar en el parentésis el valor de T deseado en s"
   ]
  },
  {
   "cell_type": "markdown",
   "metadata": {},
   "source": [
    "<span style=\"color:salmon;\"> Programa </span>"
   ]
  },
  {
   "cell_type": "code",
   "execution_count": 32,
   "metadata": {},
   "outputs": [
    {
     "name": "stdout",
     "output_type": "stream",
     "text": [
      "El valor de la altitud es: 5328316.93 metros\n"
     ]
    }
   ],
   "source": [
    "T = float(input(\"Ingresa el valor deseado de T en segundos: \")) # Pedir al usuario que ingrese T\n",
    "\n",
    "altura = Calcular_Altitud(T) #Calcula la altitud\n",
    "\n",
    "print(f\"El valor de la altitud es: {altura:.2f} metros\") #Imprime resultado y toma con dos decimales (.2f), f es para que lo tome como función\n",
    "\n"
   ]
  },
  {
   "cell_type": "markdown",
   "metadata": {},
   "source": [
    "### c) Utiliza tu programa para calcular las altitudes de los satélites que orbitan la Tierra:\n",
    "- Una vez al día (la llamada **órbita geoestacionaria**).\n",
    "- Una vez cada **90 minutos**.\n",
    "- Una vez cada **45 minutos**.\n",
    "\n",
    "¿Qué concluyes de este último cálculo?"
   ]
  },
  {
   "cell_type": "markdown",
   "metadata": {},
   "source": [
    "### Vamos a hacer la conversión respectiva a minutos: "
   ]
  },
  {
   "cell_type": "code",
   "execution_count": 12,
   "metadata": {},
   "outputs": [],
   "source": [
    "#conversion de hr a seg \n",
    "\n",
    "def HorasASeg(h): #h es para infresar las horas\n",
    "    seg = h * 3600 #Cálculo\n",
    "    return seg"
   ]
  },
  {
   "cell_type": "code",
   "execution_count": 13,
   "metadata": {},
   "outputs": [
    {
     "data": {
      "text/plain": [
       "86400"
      ]
     },
     "execution_count": 13,
     "metadata": {},
     "output_type": "execute_result"
    }
   ],
   "source": [
    "HorasASeg(24) #1 día tiene 24 horas, se hace el cálculo"
   ]
  },
  {
   "cell_type": "code",
   "execution_count": 14,
   "metadata": {},
   "outputs": [],
   "source": [
    "#conversion de minutos a seg\n",
    "\n",
    "def MinutosAS(m): #m es para ingresar los minutos \n",
    "    s = m * 60 #Cálculo\n",
    "    return s"
   ]
  },
  {
   "cell_type": "code",
   "execution_count": 15,
   "metadata": {},
   "outputs": [
    {
     "data": {
      "text/plain": [
       "5400"
      ]
     },
     "execution_count": 15,
     "metadata": {},
     "output_type": "execute_result"
    }
   ],
   "source": [
    "MinutosAS(90)"
   ]
  },
  {
   "cell_type": "code",
   "execution_count": 16,
   "metadata": {},
   "outputs": [
    {
     "data": {
      "text/plain": [
       "2700"
      ]
     },
     "execution_count": 16,
     "metadata": {},
     "output_type": "execute_result"
    }
   ],
   "source": [
    "MinutosAS(45)"
   ]
  },
  {
   "cell_type": "markdown",
   "metadata": {},
   "source": [
    "## Una vez al día (la llamada **órbita geoestacionaria**)."
   ]
  },
  {
   "cell_type": "code",
   "execution_count": 17,
   "metadata": {},
   "outputs": [
    {
     "data": {
      "text/plain": [
       "35855910.176174976"
      ]
     },
     "execution_count": 17,
     "metadata": {},
     "output_type": "execute_result"
    }
   ],
   "source": [
    "Calcular_Altitud(86400)"
   ]
  },
  {
   "cell_type": "markdown",
   "metadata": {},
   "source": [
    "## Una vez cada 90 minutos"
   ]
  },
  {
   "cell_type": "code",
   "execution_count": 18,
   "metadata": {},
   "outputs": [
    {
     "data": {
      "text/plain": [
       "279321.6253728606"
      ]
     },
     "execution_count": 18,
     "metadata": {},
     "output_type": "execute_result"
    }
   ],
   "source": [
    "Calcular_Altitud(5400)"
   ]
  },
  {
   "cell_type": "markdown",
   "metadata": {},
   "source": [
    "## Una vez cada 45 minutos"
   ]
  },
  {
   "cell_type": "code",
   "execution_count": 19,
   "metadata": {},
   "outputs": [
    {
     "data": {
      "text/plain": [
       "-2181559.8978108233"
      ]
     },
     "execution_count": 19,
     "metadata": {},
     "output_type": "execute_result"
    }
   ],
   "source": [
    "Calcular_Altitud(2700)"
   ]
  },
  {
   "cell_type": "markdown",
   "metadata": {},
   "source": [
    "<span style=\"color:orange;\"> De este último cálculo, se concluye que un satélite que orbita la Tierra una vez cada 45 minutos tendría que orbitar por debajo de la superficie de la Tierra para estar lo suficientemente cerca para tener una órbita tan rápida.  </span>"
   ]
  },
  {
   "cell_type": "markdown",
   "metadata": {},
   "source": [
    "$$h>0$$\n",
    "\n",
    "$$\\Leftrightarrow \\sqrt[3]{\\frac{GMT^{2}}{4\\pi^2}} - R > 0 $$\n",
    "\n",
    "$$\\Leftrightarrow \\sqrt[3]{\\frac{GMT^{2}}{4\\pi^2}}  > R $$\n",
    "\n",
    "$$\\Leftrightarrow \\frac{GMT^{2}}{4\\pi^2} > R^3 $$\n",
    "\n",
    "$$\\Leftrightarrow T > 2 \\pi \\sqrt{\\frac{ R^3}{GM}} $$\n",
    "\n"
   ]
  },
  {
   "cell_type": "code",
   "execution_count": 33,
   "metadata": {},
   "outputs": [
    {
     "name": "stdout",
     "output_type": "stream",
     "text": [
      "El resultado es: 5063.3878303250785 segundos\n"
     ]
    }
   ],
   "source": [
    "#Calculemos el número\n",
    "\n",
    "PeriodoMinimo = 2 * mt.pi * mt.sqrt(R**3 / (G * M))\n",
    "\n",
    "# Imprimir el resultado\n",
    "print(\"El resultado es:\", PeriodoMinimo, \"segundos\")\n",
    "\n"
   ]
  },
  {
   "cell_type": "markdown",
   "metadata": {},
   "source": [
    "<span style=\"color:orange;\"> Entonces el periodo debe ser al menos esta cantidad para que funcione </span>"
   ]
  },
  {
   "cell_type": "markdown",
   "metadata": {},
   "source": [
    "## <span style=\"color:salmon;\"> Programa </span>"
   ]
  },
  {
   "cell_type": "code",
   "execution_count": 38,
   "metadata": {},
   "outputs": [
    {
     "name": "stdout",
     "output_type": "stream",
     "text": [
      "\n",
      "El período orbital total en segundos es: 2700 s\n",
      "El valor de la altitud es: -2181559.90 metros\n"
     ]
    }
   ],
   "source": [
    "#Vamos a pedir al usuario que ingrese las horas o los minutos\n",
    "\n",
    "horas =  int(input(\"Ingrese la cantidad en horas: \")) #Ingreso de horas Solo tomará valores enteros (int)\n",
    "minutos =  int(input(\"Ingrese la cantidad en minutos: \")) #Minutos\n",
    "segundos = int(input(\"Ingrese la cantidad de segundos: \")) #Segundos\n",
    "\n",
    "T_total = HorasASeg(horas) + MinutosAS(minutos) + segundos # Pasar a segundos todo\n",
    "\n",
    "altura = Calcular_Altitud(T_total) #Calcula la altitud\n",
    "\n",
    "print(f\"\\nEl período orbital total en segundos es: {T_total} s\") #Imprime el total de segundos\n",
    "print(f\"El valor de la altitud es: {altura:.2f} metros\") #Imprime resultado y formatee con dos decimales (.2f)\n"
   ]
  },
  {
   "cell_type": "markdown",
   "metadata": {},
   "source": [
    "---"
   ]
  },
  {
   "cell_type": "markdown",
   "metadata": {},
   "source": [
    "## 2. Relatividad especial: \n",
    "\n",
    "Una nave espacial viaja desde la Tierra en línea recta a una velocidad relativista $v$ a otro planeta a x años luz de distancia. \n",
    "\n",
    "### Escribe un programa que le pida al usuario el valor de $x$ y la velocidad $v$ como una fraccion de la velocidad de la luz $c$, y que imprima el tiempo en años que tarda la nave espacial en llegar a su destino\n",
    "\n",
    "a) en el marco de reposo de un observador en la Tierra y\n",
    "\n",
    "b) como lo percibiría un pasajero a bordo de la nave.\n",
    "\n",
    "Usa tu programa para calcular las respuestas para un planeta a 10 años luz de distancia con $v = 0.99c$\n"
   ]
  },
  {
   "cell_type": "markdown",
   "metadata": {},
   "source": [
    "Tenemos que:\n",
    "\n",
    "Desde un observador en la Tierra : $t_{Tierra} = \\frac{x}{v} $\n",
    "\n",
    "Tiempo percibido por un pasajero a bordo de una nave : $t_{obs}=\\frac{x}{v}(\\sqrt{1-\\frac{v}{c}}^2) $ \n"
   ]
  },
  {
   "cell_type": "code",
   "execution_count": 42,
   "metadata": {},
   "outputs": [
    {
     "name": "stdout",
     "output_type": "stream",
     "text": [
      " Tiempo en el marco de referencia de la Tierra: 10.10 años\n",
      " Tiempo en el marco de referencia de la nave: 1.42 años\n"
     ]
    }
   ],
   "source": [
    "import math as mt #Importamos librerías\n",
    "\n",
    "#Definamos variables \n",
    "\n",
    "c=1 #Velocidad de la luz, por simplicidad es igual a 1\n",
    "\n",
    "x = float(input(\"Ingrese el valor de la distancia en años luz: \"))\n",
    "\n",
    "v = float(input(\"Ingrese la velocidad como fracción de la velocidad de la luz: \"))\n",
    "\n",
    "tTierra = x/v #Tiempo obs en Tierra\n",
    "\n",
    "tObs = tTierra*mt.sqrt(1 - v**2) #Tiempo pasajero\n",
    "\n",
    "print(f\" Tiempo en el marco de referencia de la Tierra: {tTierra:.2f} años\")\n",
    "\n",
    "print(f\" Tiempo en el marco de referencia de la nave: {tObs:.2f} años\")\n"
   ]
  },
  {
   "cell_type": "markdown",
   "metadata": {},
   "source": [
    "---"
   ]
  },
  {
   "cell_type": "markdown",
   "metadata": {},
   "source": [
    "## 3. Orbitas planetarias:  \n",
    "\n",
    "#### En el espacio, la órbita de un cuerpo alrededor de otro (como un  planeta alrededor del Sol), no necesariamente es circular. En general, toma la forma de una elipse, con el cuerpo a veces más cerca y otras más lejos. Si tenemos la distancia  $l_1$ de maxima aproximación de un planeta al Sol (su  perihelio), y su velocidad lineal v1 en el perihelio, entonces cualquier otra propiedad de la orbita se puede calcular a partir  de estas dos cantidades de la siguiente manera:"
   ]
  },
  {
   "cell_type": "markdown",
   "metadata": {},
   "source": [
    "\n",
    "\n",
    "### a) La segunda ley de Kepler nos dice que la distancia $\\ell_2$ y la velocidad $v_2$ del planeta en su punto más distante, o \\textit{afelio}, satisfacen que $\\ell_2 v_2 = \\ell_1 v_1$. Al mismo tiempo, la energía total, cinética más la gravitatoria, de un planeta con velocidad $v$ y distancia $r$ del Sol está dada por:\n",
    "\n",
    "\\begin{equation}\n",
    "    E = \\frac{1}{2} m v^2 - G \\frac{m M}{r},\n",
    "\\end{equation}\n",
    "\n",
    "### donde $m$ es la masa del planeta, $M = 1.9891 \\times 10^{30} \\text{ kg}$ es la masa del Sol y $G = 6.6738 \\times 10^{-11} \\text{ m}^3 \\text{ kg}^{-1} \\text{ s}^{-2}$ es la constante gravitatoria de Newton. Dado que la energía debe conservarse, demuestre que $v_2$ es la raíz más pequeña de la ecuación cuadrática:\n",
    "\n",
    "\\begin{equation}\n",
    "    v_2^2 - \\frac{2GM}{v_1 \\ell_1} v_2 - \\left[ v_1^2 - \\frac{2GM}{\\ell_1} \\right] = 0.\n",
    "\\end{equation}\n",
    "\n",
    "### Una vez que tenemos $v_2$ podemos calcular $\\ell_2$ usando la relación $\\ell_2 = \\ell_1 v_1 / v_2$.\n",
    "\n",
    "\n",
    "\n",
    "\n",
    "\n"
   ]
  },
  {
   "cell_type": "markdown",
   "metadata": {},
   "source": [
    "Demostración:\n",
    "\n",
    "De $$v_2^2 - \\frac{2 G M}{\\ell_1 v_1} v_2 - \\left( v_1^2 - \\frac{2 G M}{\\ell_1} \\right) = 0$$\n",
    "\n",
    "La solución general de una ecuación cuadrática $$av_{2}^2+bv_{2}+c=0$$ es:\n",
    "\n",
    "$$v_2=\\frac{-b \\pm \\sqrt {b^2 -4ac}}{{2a}}$$\n",
    "\n",
    "Siendo nuestro caso:\n",
    "\n",
    "$a=1$\n",
    "\n",
    "$b=-\\frac{2GM}{\\ell_1 v_1}$\n",
    "\n",
    "$c=-(v_1^2-\\frac{2GM}{\\ell_1 v_1} )$\n",
    "\n",
    "Sustituyendo estos valores en la fórmula cuadrática, obtenemos:\n",
    "\n",
    "$$v_2 = \\frac{ \\frac{2 G M}{\\ell_1 v_1} \\pm \\sqrt{ \\left( \\frac{2 G M}{\\ell_1 v_1} \\right)^2 + 4 \\left( v_1^2 - \\frac{2 G M}{\\ell_1} \\right) } }{2}$$\n",
    "\n",
    "Simplificada dentro de la raíz:\n",
    "\n",
    "$$\\sqrt{ \\frac{4 G^2 M^2}{\\ell_1^2 v_1^2} + 4 v_1^2 - \\frac{8 G M}{\\ell_1} }$$\n",
    "\n",
    "Entonces:\n",
    "\n",
    "$$v_2 = \\frac{ \\frac{2 G M}{\\ell_1 v_1} \\pm \\sqrt{ \\frac{4 G^2 M^2}{\\ell_1^2 v_1^2} + 4 v_1^2 - \\frac{8 G M}{\\ell_1} } }{2}$$\n",
    "\n",
    "\n",
    "La raíz más pequeña, siendo la correspondiente al signo menos, es la solución físicamente válida para $v_2$, ya que la velocidad en el afelio debe ser menor que la velocidad en el perihelio $v_2 < v_1$. A lo que: \n",
    "\n",
    "$$v_2 = \\frac{ \\frac{2 G M}{\\ell_1 v_1} - \\sqrt{ \\frac{4 G^2 M^2}{\\ell_1^2 v_1^2} + 4 v_1^2 - \\frac{8 G M}{\\ell_1} } }{2}$$\n",
    "\n",
    "\n",
    "\n",
    "$$\\ell_2 = \\frac{\\ell_1 v_1}{v_2}$$\n"
   ]
  },
  {
   "cell_type": "markdown",
   "metadata": {},
   "source": [
    "b) Dados los valores de $v_1$, $\\ell_1$, y $\\ell_2$, otros parámetros de la órbita se obtienen mediante fórmulas simples que pueden derivarse de las leyes de Kepler y del hecho de que la órbita es una elipse:\n",
    "\n",
    "\\begin{align}\n",
    "    \\text{Semieje mayor: } & \\quad a = \\frac{1}{2} (\\ell_1 + \\ell_2), \\\\\n",
    "    \\text{Semieje menor: } & \\quad b = \\sqrt{\\ell_1 \\ell_2}, \\\\\n",
    "    \\text{Período orbital: } & \\quad T = \\frac{2\\pi ab}{\\ell_1 v_1}, \\\\\n",
    "    \\text{Excentricidad orbital: } & \\quad e = \\frac{\\ell_2 - \\ell_1}{\\ell_2 + \\ell_1}.\n",
    "\\end{align}\n",
    "\n",
    "Escribe un programa que le pida al usuario que ingrese la distancia al Sol y la velocidad en el perihelio; para que calcule e imprima las cantidades $\\ell_2$, $v_2$, $T$ y $e$.\n",
    "\n"
   ]
  },
  {
   "cell_type": "code",
   "execution_count": 49,
   "metadata": {},
   "outputs": [
    {
     "ename": "ValueError",
     "evalue": "math domain error",
     "output_type": "error",
     "traceback": [
      "\u001b[0;31m---------------------------------------------------------------------------\u001b[0m",
      "\u001b[0;31mValueError\u001b[0m                                Traceback (most recent call last)",
      "Cell \u001b[0;32mIn[49], line 28\u001b[0m\n\u001b[1;32m     25\u001b[0m l2 \u001b[38;5;241m=\u001b[39m (l1 \u001b[38;5;241m*\u001b[39m v1) \u001b[38;5;241m/\u001b[39m v2    \u001b[38;5;66;03m# Calcular l2\u001b[39;00m\n\u001b[1;32m     27\u001b[0m a \u001b[38;5;241m=\u001b[39m \u001b[38;5;241m0.5\u001b[39m\u001b[38;5;241m*\u001b[39m(l1\u001b[38;5;241m+\u001b[39ml2) \u001b[38;5;66;03m# semieje mayor\u001b[39;00m\n\u001b[0;32m---> 28\u001b[0m b \u001b[38;5;241m=\u001b[39m \u001b[43mmt\u001b[49m\u001b[38;5;241;43m.\u001b[39;49m\u001b[43msqrt\u001b[49m\u001b[43m(\u001b[49m\u001b[43ml1\u001b[49m\u001b[38;5;241;43m*\u001b[39;49m\u001b[43ml2\u001b[49m\u001b[43m)\u001b[49m \u001b[38;5;66;03m# semieje menor\u001b[39;00m\n\u001b[1;32m     29\u001b[0m T \u001b[38;5;241m=\u001b[39m (\u001b[38;5;241m2\u001b[39m\u001b[38;5;241m*\u001b[39mmt\u001b[38;5;241m.\u001b[39mpi\u001b[38;5;241m*\u001b[39ma\u001b[38;5;241m*\u001b[39mb)\u001b[38;5;241m/\u001b[39m(l1\u001b[38;5;241m*\u001b[39mv1) \u001b[38;5;66;03m#Periodo oorbital\u001b[39;00m\n\u001b[1;32m     30\u001b[0m e \u001b[38;5;241m=\u001b[39m (l2\u001b[38;5;241m-\u001b[39ml1)\u001b[38;5;241m/\u001b[39m(l2\u001b[38;5;241m+\u001b[39ml1) \u001b[38;5;66;03m#excentricidad\u001b[39;00m\n",
      "\u001b[0;31mValueError\u001b[0m: math domain error"
     ]
    }
   ],
   "source": [
    "import math as mt\n",
    "\n",
    "G = 6.6738e-11  #Constante de gravitación univesal en m^3 kg^{-1} s^{-2}\n",
    "MSol = 1.9891e30   # Masa del Sol en kg\n",
    "\n",
    "l1 =  float(input(\"Ingrese la distancia al Sol en metros: \")) #distancia en el perihelio\n",
    "\n",
    "v1 =  float(input(\"Ingrese la velocidad del perihelio en m/s: \")) #velocidad en el perihelio\n",
    "\n",
    "# Resolver la ecuación cuadrática para v2\n",
    "#coeficientes\n",
    "\n",
    "a = 1\n",
    "b = - (2 * G * M) / (v1 * l1)\n",
    "c = - (v1**2 - (2 * G * M / l1))\n",
    " \n",
    "  # Fórmula general para ecuaciones cuadráticas\n",
    "discriminante = b**2 - 4 * a * c\n",
    "\n",
    "#if discriminante < 0:\n",
    "    # raise ValueError(\"No hay solución real para v2\")\n",
    "\n",
    "v2 = (-b - mt.sqrt(discriminante)) / (2 * a)  # Se toma la raíz menor\n",
    "\n",
    "l2 = (l1 * v1) / v2    # Calcular l2\n",
    "\n",
    "a = 0.5*(l1+l2) # semieje mayor\n",
    "b = mt.sqrt(l1*l2) # semieje menor\n",
    "T = (2*mt.pi*a*b)/(l1*v1) #Periodo oorbital\n",
    "e = (l2-l1)/(l2+l1) #excentricidad\n",
    "  \n",
    "\n",
    "    # Resultados\n",
    "print(f\"Velocidad en el afelio (v2): {v2} m/s\")\n",
    "print(f\"Distancia en el afelio (l2): {l2} m\")\n",
    "print(f\"Periodo: {T} s\")\n",
    "print(f\"Excentricidad: {e} \")"
   ]
  },
  {
   "cell_type": "markdown",
   "metadata": {},
   "source": [
    "\n",
    "c) Prueba tu programa haciendo que calcule las propiedades de las órbitas de la Tierra (para las cuales $\\ell_1 = 1.4710 \\times 10^{11} \\text{ m}$ y $v_1 = 3.0287 \\times 10^4 \\text{ m s}^{-1}$) y del cometa Halley ($\\ell_1 = 8.7830 \\times 10^{10} \\text{ m}$ y $v_1 = 5.4529 \\times 10^4 \\text{ m s}^{-1}$). Entre otras cosas, deberías encontrar que el período orbital de la Tierra es de un año y el del cometa Halley es de unos 76 años."
   ]
  },
  {
   "cell_type": "code",
   "execution_count": null,
   "metadata": {},
   "outputs": [],
   "source": []
  }
 ],
 "metadata": {
  "kernelspec": {
   "display_name": "Python 3",
   "language": "python",
   "name": "python3"
  },
  "language_info": {
   "codemirror_mode": {
    "name": "ipython",
    "version": 3
   },
   "file_extension": ".py",
   "mimetype": "text/x-python",
   "name": "python",
   "nbconvert_exporter": "python",
   "pygments_lexer": "ipython3",
   "version": "3.12.6"
  }
 },
 "nbformat": 4,
 "nbformat_minor": 2
}
