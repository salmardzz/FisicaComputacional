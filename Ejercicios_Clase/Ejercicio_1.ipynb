{
 "cells": [
  {
   "cell_type": "markdown",
   "metadata": {},
   "source": [
    "## Ejercicio 1 de clase"
   ]
  },
  {
   "cell_type": "markdown",
   "metadata": {},
   "source": [
    "## Caída de una pelota desde una torre:\n",
    "\n",
    "Se deja caer una pelota desde una altura $h$. Tiene una velocidad inicial cero y acelera hacia abajo con la gravedad. \n",
    "\n",
    "Escribe un programa que le pida al usuario que ingrese la altura en metros de la torre y luego calcule e imprima el tiempo en segundos hasta que la pelota toque el suelo (ignora la resistemcia del aire).\n",
    "\n",
    "Después, usa tu programa para calcular el tiempo de una pelota lanzada desde una torre de 100m de altura."
   ]
  },
  {
   "cell_type": "markdown",
   "metadata": {},
   "source": [
    "\n",
    "$$ t = \\sqrt{\\frac{2h}{g}} $$"
   ]
  },
  {
   "cell_type": "code",
   "execution_count": 26,
   "metadata": {},
   "outputs": [],
   "source": [
    "from math import sqrt #importar librerias "
   ]
  },
  {
   "cell_type": "code",
   "execution_count": 27,
   "metadata": {},
   "outputs": [
    {
     "name": "stdout",
     "output_type": "stream",
     "text": [
      "3.1927542840705043\n"
     ]
    }
   ],
   "source": [
    "h = 50\n",
    "g = 9.81 #m/s^2\n",
    "t = sqrt( (2*h) / g )\n",
    "print(t)"
   ]
  },
  {
   "cell_type": "code",
   "execution_count": 28,
   "metadata": {},
   "outputs": [],
   "source": [
    "def CaidaLibre(h): #Esta función regresa el tiempo de la pelota al caer \n",
    "     t = sqrt( (2*h) / g ) #Esta es la ecuación del tiempo\n",
    "     return t   # Este es el resultado\n"
   ]
  },
  {
   "cell_type": "code",
   "execution_count": 29,
   "metadata": {},
   "outputs": [
    {
     "data": {
      "text/plain": [
       "4.038550218769218"
      ]
     },
     "execution_count": 29,
     "metadata": {},
     "output_type": "execute_result"
    }
   ],
   "source": [
    "CaidaLibre(80)"
   ]
  },
  {
   "cell_type": "markdown",
   "metadata": {},
   "source": [
    "## Ejercicio 2 "
   ]
  },
  {
   "cell_type": "code",
   "execution_count": 58,
   "metadata": {},
   "outputs": [],
   "source": [
    "import numpy as np"
   ]
  },
  {
   "cell_type": "code",
   "execution_count": 59,
   "metadata": {},
   "outputs": [],
   "source": [
    "a = [1,2,3]\n",
    "\n",
    "b = [4,5,6]"
   ]
  },
  {
   "cell_type": "code",
   "execution_count": 60,
   "metadata": {},
   "outputs": [
    {
     "data": {
      "text/plain": [
       "32"
      ]
     },
     "execution_count": 60,
     "metadata": {},
     "output_type": "execute_result"
    }
   ],
   "source": [
    "pto = a[0]*b[0]+a[1]*b[1]+a[2]*b[2]\n",
    "\n",
    "pto"
   ]
  },
  {
   "cell_type": "code",
   "execution_count": 63,
   "metadata": {},
   "outputs": [
    {
     "data": {
      "text/plain": [
       "32"
      ]
     },
     "execution_count": 63,
     "metadata": {},
     "output_type": "execute_result"
    }
   ],
   "source": [
    "pto = 0 \n",
    "for i in range(len(a)):  #Nos fijamos en las entradas de los 2 vectores\n",
    " pto = pto + a[i]*b[i]\n",
    "pto\n",
    " "
   ]
  },
  {
   "cell_type": "code",
   "execution_count": 65,
   "metadata": {},
   "outputs": [],
   "source": [
    "#a = np.array(a)\n",
    "#b = np.array(b)"
   ]
  },
  {
   "cell_type": "code",
   "execution_count": 66,
   "metadata": {},
   "outputs": [],
   "source": [
    "#pto = np.dot(a,b)\n",
    "#type(pto)"
   ]
  },
  {
   "cell_type": "markdown",
   "metadata": {},
   "source": [
    "## Ejercicio. Condicionales "
   ]
  },
  {
   "cell_type": "code",
   "execution_count": null,
   "metadata": {},
   "outputs": [],
   "source": []
  },
  {
   "cell_type": "markdown",
   "metadata": {},
   "source": [
    "$$  \\frac{GM}{l_1}<= v_i^2< \\frac{2GM}{l_1} $$"
   ]
  },
  {
   "cell_type": "code",
   "execution_count": 91,
   "metadata": {},
   "outputs": [],
   "source": [
    "G = 6.6738e-11\n",
    "M = 1.9891e30 \n",
    "l1 = float(input(\"l1 \"))\n",
    "v1= float(input(\"v1 \"))"
   ]
  },
  {
   "cell_type": "code",
   "execution_count": 92,
   "metadata": {},
   "outputs": [
    {
     "name": "stdout",
     "output_type": "stream",
     "text": [
      "Hago lo que tengo que hacer\n"
     ]
    }
   ],
   "source": [
    "k = G*M/l1\n",
    "#x = k <= v1**2 < 2*k\n",
    "if k <= v1**2 < 2*k: \n",
    "    print(\"Hago lo que tengo que hacer\")\n",
    "elif v1**2 >= 2*k: #Si no, pero además, es un else con un if dentro \n",
    "    print(\"No son datos de una orbita\")\n",
    "else : \n",
    "    print(\"No son datos del perihelio\")\n"
   ]
  },
  {
   "cell_type": "code",
   "execution_count": 4,
   "metadata": {},
   "outputs": [
    {
     "name": "stdout",
     "output_type": "stream",
     "text": [
      "1\n",
      "1\n",
      "2\n",
      "5\n",
      "14\n",
      "42\n",
      "132\n",
      "429\n",
      "1430\n",
      "4862\n",
      "16796\n",
      "58786\n",
      "208012\n",
      "742900\n",
      "2674440\n",
      "9694845\n",
      "35357670\n",
      "129644790\n",
      "477638700\n",
      "1767263190\n"
     ]
    }
   ],
   "source": [
    "C = 1\n",
    "n = 0\n",
    "print(C)\n",
    "\n",
    "\n",
    "while C <= 1e9:\n",
    "    C = C*(4*n+2)/(n+2)\n",
    "    print(int(C))\n",
    "    n += 1\n"
   ]
  },
  {
   "cell_type": "code",
   "execution_count": 14,
   "metadata": {},
   "outputs": [
    {
     "name": "stdout",
     "output_type": "stream",
     "text": [
      "1\n",
      "C 0 = 1.0\n",
      "C 1 = 2.0\n",
      "C 2 = 5.0\n",
      "C 3 = 14.0\n",
      "C 4 = 42.0\n",
      "C 5 = 132.0\n",
      "C 6 = 429.0\n",
      "C 7 = 1430.0\n",
      "C 8 = 4862.0\n",
      "C 9 = 16796.0\n",
      "C 10 = 58786.0\n",
      "C 11 = 208012.0\n",
      "C 12 = 742900.0\n",
      "C 13 = 2674440.0\n",
      "C 14 = 9694845.0\n",
      "C 15 = 35357670.0\n",
      "C 16 = 129644790.0\n",
      "C 17 = 477638700.0\n",
      "C 18 = 1767263190.0\n"
     ]
    }
   ],
   "source": [
    "C = 1\n",
    "n = 0\n",
    "print(C)\n",
    "\n",
    "\n",
    "while (C <= 1e9):\n",
    "    C = C*(4*n+2)/(n+2)\n",
    "    print(\"C\", n , \"=\", C)\n",
    "    n += 1"
   ]
  },
  {
   "cell_type": "code",
   "execution_count": 30,
   "metadata": {},
   "outputs": [
    {
     "name": "stdout",
     "output_type": "stream",
     "text": [
      "1.0\n",
      "1.5\n",
      "1.8333333333333333\n",
      "2.083333333333333\n",
      "2.283333333333333\n",
      "2.4499999999999997\n",
      "2.5928571428571425\n",
      "2.7178571428571425\n",
      "2.8289682539682537\n",
      "2.9289682539682538\n",
      "3.0198773448773446\n",
      "3.103210678210678\n",
      "3.180133755133755\n",
      "3.251562326562327\n",
      "3.3182289932289937\n",
      "3.3807289932289937\n",
      "3.439552522640758\n",
      "3.4951080781963135\n",
      "3.547739657143682\n",
      "3.597739657143682\n",
      "3.6453587047627294\n",
      "3.690813250217275\n",
      "3.73429151108684\n",
      "3.7759581777535067\n",
      "3.8159581777535068\n",
      "3.854419716215045\n",
      "3.8914567532520823\n",
      "3.927171038966368\n",
      "3.9616537975870574\n",
      "3.9949871309203906\n",
      "4.02724519543652\n",
      "4.05849519543652\n",
      "4.08879822573955\n",
      "4.118209990445433\n",
      "4.146781419016861\n",
      "4.174559196794639\n",
      "4.201586223821666\n",
      "4.22790201329535\n",
      "4.2535430389363755\n",
      "4.278543038936376\n",
      "4.302933282838815\n",
      "4.326742806648339\n",
      "4.349998620601827\n",
      "4.3727258933290996\n",
      "4.394948115551322\n",
      "4.416687245986104\n",
      "4.4379638417307845\n",
      "4.4587971750641175\n",
      "4.4792053383294235\n",
      "4.499205338329423\n",
      "4.518813181466678\n",
      "4.538043950697447\n",
      "4.556911875225749\n",
      "4.575430393744267\n",
      "4.593612211926086\n",
      "4.611469354783229\n",
      "4.6290132144323515\n",
      "4.646254593742697\n",
      "4.6632037462850695\n",
      "4.679870412951736\n",
      "4.696263855574687\n",
      "4.712392887832752\n",
      "4.7282659037057675\n",
      "4.7438909037057675\n",
      "4.759275519090383\n",
      "4.774427034241898\n",
      "4.789352407376227\n",
      "4.804058289729168\n",
      "4.818551043352357\n",
      "4.832836757638071\n",
      "4.846921264680325\n",
      "4.860810153569214\n",
      "4.8745087837062\n",
      "4.888022297219713\n",
      "4.901355630553047\n",
      "4.914513525289889\n",
      "4.927500538276902\n",
      "4.940321051097415\n",
      "4.9529792789455165\n",
      "4.965479278945517\n",
      "4.977824957957862\n",
      "4.9900200799090815\n",
      "5.002068272680166\n",
      "5.013973034584928\n",
      "5.025737740467281\n",
      "5.037365647444025\n",
      "5.048859900317588\n",
      "5.0602235366812245\n",
      "5.0714594917374045\n",
      "5.082570602848516\n",
      "5.0935596138375265\n",
      "5.104429179054918\n",
      "5.115181867226961\n",
      "5.125820165099301\n",
      "5.136346480888775\n",
      "5.146763147555442\n",
      "5.157072425905957\n",
      "5.1672765075386105\n",
      "5.177377517639621\n"
     ]
    }
   ],
   "source": [
    "# Inicializar la suma\n",
    "S = 0\n",
    "\n",
    "# Realizar la suma desde k=1 hasta k=100\n",
    "for k in range(1, 100):\n",
    "    S += 1 / k\n",
    "    print(float(S))"
   ]
  },
  {
   "cell_type": "markdown",
   "metadata": {},
   "source": [
    "#### **Ejercicio:**\n",
    "\n",
    "Escribe una función que tome como argumento un número entero y que regrese el factorial del mismo.\n",
    "\n",
    "$\\displaystyle n! = \\prod_{i=1}^n i$\n",
    "\n",
    "Y pruebala para diferentes valores."
   ]
  },
  {
   "cell_type": "code",
   "execution_count": 46,
   "metadata": {},
   "outputs": [
    {
     "name": "stdout",
     "output_type": "stream",
     "text": [
      "720\n"
     ]
    }
   ],
   "source": [
    "def factorial(n):\n",
    "    if n == 0 or n == 1:\n",
    "        return 1\n",
    "    else: \n",
    "        for i in range (1,n):\n",
    "            n = n*i\n",
    "        return n\n",
    "print(factorial(6))    \n",
    "\n"
   ]
  },
  {
   "cell_type": "code",
   "execution_count": null,
   "metadata": {},
   "outputs": [],
   "source": [
    "def "
   ]
  },
  {
   "cell_type": "code",
   "execution_count": 48,
   "metadata": {},
   "outputs": [
    {
     "ename": "IndentationError",
     "evalue": "unindent does not match any outer indentation level (<string>, line 3)",
     "output_type": "error",
     "traceback": [
      "\u001b[0;36m  File \u001b[0;32m<string>:3\u001b[0;36m\u001b[0m\n\u001b[0;31m    elif n == 0:\u001b[0m\n\u001b[0m                ^\u001b[0m\n\u001b[0;31mIndentationError\u001b[0m\u001b[0;31m:\u001b[0m unindent does not match any outer indentation level\n"
     ]
    }
   ],
   "source": [
    " if n < 0:\n",
    "    raise ValueError(\"Factorial is not defined for negative numbers.\")\n",
    "  elif n == 0:\n",
    "    return 1\n",
    "  else:\n",
    "    result = 1\n",
    "    for i in range(1, n + 1):\n",
    "      result *= i\n",
    "    return result"
   ]
  }
 ],
 "metadata": {
  "kernelspec": {
   "display_name": "Python 3",
   "language": "python",
   "name": "python3"
  },
  "language_info": {
   "codemirror_mode": {
    "name": "ipython",
    "version": 3
   },
   "file_extension": ".py",
   "mimetype": "text/x-python",
   "name": "python",
   "nbconvert_exporter": "python",
   "pygments_lexer": "ipython3",
   "version": "3.12.6"
  }
 },
 "nbformat": 4,
 "nbformat_minor": 2
}
